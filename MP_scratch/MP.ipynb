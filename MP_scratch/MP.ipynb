{
 "cells": [
  {
   "cell_type": "code",
   "execution_count": 1,
   "metadata": {},
   "outputs": [],
   "source": [
    "import pandas as pd\n",
    "import numpy as np "
   ]
  },
  {
   "cell_type": "code",
   "execution_count": 2,
   "metadata": {},
   "outputs": [],
   "source": [
    "lst = [[0,0,1],\n",
    "       [0,1,0], \n",
    "       [1,0,0],\n",
    "       [1,1,1]] \n",
    "\n",
    "np.random.seed(666)\n",
    "df = pd.DataFrame(lst, columns =['Input1', 'Input2','label']) \n",
    "X = df.values[:,:-1]\n",
    "Y = df.values[:,-1]\n"
   ]
  },
  {
   "cell_type": "code",
   "execution_count": 25,
   "metadata": {},
   "outputs": [],
   "source": [
    "\n",
    "def Activation(z ,type_act):\n",
    "    if(type_act == \"relu\"):\n",
    "        z[z < 0] = 0\n",
    "        return z \n",
    "    \n",
    "    elif(type_act == \"sigmoid\"):\n",
    "        return 1 / 1+np.exp(z)\n",
    "    \n",
    "            \n",
    "class Network:\n",
    "    \n",
    "    def __init__(self,dimensions , activations):\n",
    "        self.n_layers = len(dimensions)\n",
    "        self.loss = None\n",
    "        self.learning_rate = None\n",
    "        self.w = {}\n",
    "        self.b = {}\n",
    "        self.activations = {}\n",
    "        \n",
    "        for i in range (len(dimensions)-2):\n",
    "            self.w[i+1] = np.random.uniform(-1,1,(dimensions[i],dimensions[i+1]))\n",
    "            self.b[i+1] = np.zeros(dimensions[i+1])\n",
    "            self.activations[i+2] = activations[i]\n",
    "        \n",
    "        self.w[len(dimensions)-1] = np.random.uniform(-1,1,(dimensions[len(dimensions)-2],1))\n",
    "        self.activations[len(dimensions)] = activations[-1]\n",
    "        self.b[len(dimensions)-1] = np.zeros(dimensions[-1])\n",
    "            \n",
    "            \n",
    "    def _feed_forward(self,x):\n",
    "        z = {}\n",
    "        a = {1:x}\n",
    "        for i in range(1,self.n_layers):\n",
    "            z[i+1] = (np.dot(a[i],self.w[i]))+self.b[i]\n",
    "            a[i+1] = Activation(z[i+1],self.activations[i+1])\n",
    "        return z , a\n",
    "    \n",
    "    def predict(self,x):\n",
    "        _,a = _feed_forward(self,x)\n",
    "        return a[self.n_layers]"
   ]
  },
  {
   "cell_type": "code",
   "execution_count": 32,
   "metadata": {},
   "outputs": [
    {
     "data": {
      "text/plain": [
       "({2: array([-0.16595599,  0.44064899, -0.99977125]),\n",
       "  3: array([-1.76935054,  0.05126891, -0.72839562]),\n",
       "  4: array([0.23360072])},\n",
       " {1: array([1, 0]),\n",
       "  2: array([1.84708351, 2.55371523, 1.3679636 ]),\n",
       "  3: array([1.17044365, 2.05260591, 1.48268278]),\n",
       "  4: array([0.23360072])})"
      ]
     },
     "execution_count": 32,
     "metadata": {},
     "output_type": "execute_result"
    }
   ],
   "source": [
    "np.random.seed(1)\n",
    "nn = Network((2,3,3,1),(\"sigmoid\",\"sigmoid\",\"relu\"))\n",
    "nn._feed_forward(X[2])\n"
   ]
  },
  {
   "cell_type": "code",
   "execution_count": null,
   "metadata": {},
   "outputs": [],
   "source": []
  }
 ],
 "metadata": {
  "kernelspec": {
   "display_name": "Python 3.6.9 64-bit ('myenv': conda)",
   "language": "python",
   "name": "python36964bitmyenvcondabe77ee87df9845f49e27b8db607a39fc"
  },
  "language_info": {
   "codemirror_mode": {
    "name": "ipython",
    "version": 3
   },
   "file_extension": ".py",
   "mimetype": "text/x-python",
   "name": "python",
   "nbconvert_exporter": "python",
   "pygments_lexer": "ipython3",
   "version": "3.6.9"
  }
 },
 "nbformat": 4,
 "nbformat_minor": 2
}
