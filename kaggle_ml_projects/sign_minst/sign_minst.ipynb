{
 "cells": [
  {
   "cell_type": "code",
   "execution_count": 65,
   "metadata": {},
   "outputs": [],
   "source": [
    "import datetime\n",
    "import numpy as np\n",
    "import pandas as pd\n",
    "import matplotlib.pyplot as plt\n",
    "from tensorflow.keras.models import Sequential\n",
    "from tensorflow.keras.callbacks import TensorBoard\n",
    "from sklearn.model_selection import train_test_split\n",
    "from tensorflow.keras.layers import Dense,Dropout,Conv2D,MaxPool2D,Flatten\n",
    "from tensorflow.keras.utils import to_categorical\n",
    "from sklearn.metrics import accuracy_score"
   ]
  },
  {
   "cell_type": "code",
   "execution_count": 66,
   "metadata": {},
   "outputs": [],
   "source": [
    "data_train = pd.read_csv(\"sign_mnist_train/sign_mnist_train.csv\")\n",
    "data_test = pd.read_csv(\"sign_mnist_test/sign_mnist_test.csv\")\n",
    "dict_signes = [\n",
    "            \"A\",\"B\",\"C\",\"D\",\"E\",\"F\",\n",
    "            \"G\",\"H\",\"I\",\"J\",\"K\",\"L\",\n",
    "            \"M\",\"N\",\"O\",\"P\",\"Q\",\"R\",\n",
    "            \"S\",\"T\",\"U\",\"V\",\"W\",\"X\",\"Y\"]"
   ]
  },
  {
   "cell_type": "code",
   "execution_count": 67,
   "metadata": {},
   "outputs": [],
   "source": [
    "X = data_train.values[:,1:]\n",
    "Y = data_train.values[:,0]\n",
    "\n"
   ]
  },
  {
   "cell_type": "code",
   "execution_count": 68,
   "metadata": {},
   "outputs": [],
   "source": [
    "X_test = data_train.values[:,1:]\n",
    "Y_test = data_train.values[:,0]"
   ]
  },
  {
   "cell_type": "code",
   "execution_count": 69,
   "metadata": {},
   "outputs": [],
   "source": [
    "X = X.reshape(-1,28,28,1)\n",
    "X = X/255"
   ]
  },
  {
   "cell_type": "code",
   "execution_count": 70,
   "metadata": {},
   "outputs": [],
   "source": [
    "X_test = X_test.reshape(-1,28,28,1)\n",
    "X_test = X_test/255"
   ]
  },
  {
   "cell_type": "code",
   "execution_count": 5,
   "metadata": {},
   "outputs": [],
   "source": [
    "x_train , x_test,y_train,y_test = train_test_split(X,Y,test_size = 0.33 , random_state  = 42)"
   ]
  },
  {
   "cell_type": "code",
   "execution_count": 6,
   "metadata": {},
   "outputs": [
    {
     "data": {
      "text/plain": [
       "(18394,)"
      ]
     },
     "execution_count": 6,
     "metadata": {},
     "output_type": "execute_result"
    }
   ],
   "source": [
    "y_train.shape"
   ]
  },
  {
   "cell_type": "code",
   "execution_count": null,
   "metadata": {},
   "outputs": [],
   "source": []
  },
  {
   "cell_type": "code",
   "execution_count": 9,
   "metadata": {},
   "outputs": [
    {
     "name": "stdout",
     "output_type": "stream",
     "text": [
      "Model: \"sequential_1\"\n",
      "_________________________________________________________________\n",
      "Layer (type)                 Output Shape              Param #   \n",
      "=================================================================\n",
      "conv2d_6 (Conv2D)            (None, 26, 26, 32)        320       \n",
      "_________________________________________________________________\n",
      "conv2d_7 (Conv2D)            (None, 24, 24, 64)        18496     \n",
      "_________________________________________________________________\n",
      "max_pooling2d_3 (MaxPooling2 (None, 12, 12, 64)        0         \n",
      "_________________________________________________________________\n",
      "conv2d_8 (Conv2D)            (None, 10, 10, 32)        18464     \n",
      "_________________________________________________________________\n",
      "conv2d_9 (Conv2D)            (None, 8, 8, 32)          9248      \n",
      "_________________________________________________________________\n",
      "conv2d_10 (Conv2D)           (None, 6, 6, 32)          9248      \n",
      "_________________________________________________________________\n",
      "max_pooling2d_4 (MaxPooling2 (None, 3, 3, 32)          0         \n",
      "_________________________________________________________________\n",
      "flatten_1 (Flatten)          (None, 288)               0         \n",
      "_________________________________________________________________\n",
      "dropout_1 (Dropout)          (None, 288)               0         \n",
      "_________________________________________________________________\n",
      "dense_2 (Dense)              (None, 512)               147968    \n",
      "_________________________________________________________________\n",
      "dense_3 (Dense)              (None, 25)                12825     \n",
      "=================================================================\n",
      "Total params: 216,569\n",
      "Trainable params: 216,569\n",
      "Non-trainable params: 0\n",
      "_________________________________________________________________\n"
     ]
    }
   ],
   "source": [
    "model = Sequential()\n",
    "model.add(Conv2D(filters = 32,\n",
    "                 kernel_size = (3,3),\n",
    "                 input_shape = (28,28,1),\n",
    "                 activation=\"relu\"))\n",
    "\n",
    "model.add(Conv2D(filters = 64,\n",
    "                 kernel_size = (3,3),\n",
    "                 activation=\"relu\"))\n",
    "\n",
    "model.add(MaxPool2D(pool_size=2))\n",
    "\n",
    "model.add(Conv2D(filters = 32,\n",
    "                 kernel_size = (3,3),\n",
    "                 activation = \"relu\"))\n",
    "\n",
    "model.add(Conv2D(filters = 32,\n",
    "                 kernel_size = (3,3),\n",
    "                 activation = \"relu\"))\n",
    "\n",
    "model.add(Conv2D(filters = 32,\n",
    "                 kernel_size = (3,3),\n",
    "                 activation = \"relu\"))\n",
    "\n",
    "model.add(MaxPool2D())\n",
    "\n",
    "model.add(Flatten())\n",
    "model.add(Dropout(0.5))\n",
    "model.add(Dense(units = 512, activation = \"sigmoid\"))\n",
    "model.add(Dense(units = 25 , activation =\"softmax\"))\n",
    "model.summary()"
   ]
  },
  {
   "cell_type": "code",
   "execution_count": 10,
   "metadata": {},
   "outputs": [
    {
     "name": "stdout",
     "output_type": "stream",
     "text": [
      "Train on 18394 samples, validate on 9061 samples\n",
      "Epoch 1/50\n",
      "18394/18394 [==============================] - 19s 1ms/sample - loss: 1.8284 - acc: 0.4296 - val_loss: 0.6970 - val_acc: 0.7799\n",
      "Epoch 2/50\n",
      "18394/18394 [==============================] - 18s 999us/sample - loss: 0.7313 - acc: 0.7569 - val_loss: 0.2476 - val_acc: 0.9374\n",
      "Epoch 3/50\n",
      "18394/18394 [==============================] - 19s 1ms/sample - loss: 0.4586 - acc: 0.8507 - val_loss: 0.1256 - val_acc: 0.9681\n",
      "Epoch 4/50\n",
      "18394/18394 [==============================] - 19s 1ms/sample - loss: 0.3169 - acc: 0.8991 - val_loss: 0.0540 - val_acc: 0.9923\n",
      "Epoch 5/50\n",
      "18394/18394 [==============================] - 18s 977us/sample - loss: 0.2418 - acc: 0.9264 - val_loss: 0.0308 - val_acc: 0.9988\n",
      "Epoch 6/50\n",
      "18394/18394 [==============================] - 18s 1ms/sample - loss: 0.1854 - acc: 0.9426 - val_loss: 0.0219 - val_acc: 0.9972\n",
      "Epoch 7/50\n",
      "18394/18394 [==============================] - 18s 980us/sample - loss: 0.1567 - acc: 0.9519 - val_loss: 0.0160 - val_acc: 0.9988\n",
      "Epoch 8/50\n",
      "18394/18394 [==============================] - 18s 980us/sample - loss: 0.1303 - acc: 0.9578 - val_loss: 0.0073 - val_acc: 0.9999\n",
      "Epoch 9/50\n",
      "18394/18394 [==============================] - 19s 1ms/sample - loss: 0.1075 - acc: 0.9667 - val_loss: 0.0047 - val_acc: 1.0000\n",
      "Epoch 10/50\n",
      "18394/18394 [==============================] - 20s 1ms/sample - loss: 0.0906 - acc: 0.9708 - val_loss: 0.0032 - val_acc: 1.0000\n",
      "Epoch 11/50\n",
      "18394/18394 [==============================] - 18s 977us/sample - loss: 0.0768 - acc: 0.9758 - val_loss: 0.0021 - val_acc: 1.0000\n",
      "Epoch 12/50\n",
      "18394/18394 [==============================] - 18s 978us/sample - loss: 0.0680 - acc: 0.9788 - val_loss: 0.0018 - val_acc: 1.0000\n",
      "Epoch 13/50\n",
      "18394/18394 [==============================] - 18s 993us/sample - loss: 0.0702 - acc: 0.9775 - val_loss: 0.0024 - val_acc: 0.9998\n",
      "Epoch 14/50\n",
      "18394/18394 [==============================] - 18s 985us/sample - loss: 0.0574 - acc: 0.9820 - val_loss: 9.4430e-04 - val_acc: 1.0000\n",
      "Epoch 15/50\n",
      "18394/18394 [==============================] - 18s 984us/sample - loss: 0.0485 - acc: 0.9849 - val_loss: 9.4436e-04 - val_acc: 1.0000\n",
      "Epoch 16/50\n",
      "18394/18394 [==============================] - 18s 967us/sample - loss: 0.0489 - acc: 0.9840 - val_loss: 3.3617e-04 - val_acc: 1.0000\n",
      "Epoch 17/50\n",
      "18394/18394 [==============================] - 18s 977us/sample - loss: 0.0431 - acc: 0.9859 - val_loss: 7.0565e-04 - val_acc: 1.0000\n",
      "Epoch 18/50\n",
      "18394/18394 [==============================] - 18s 964us/sample - loss: 0.0438 - acc: 0.9865 - val_loss: 3.5222e-04 - val_acc: 1.0000\n",
      "Epoch 19/50\n",
      "18394/18394 [==============================] - 18s 963us/sample - loss: 0.0414 - acc: 0.9862 - val_loss: 7.5242e-04 - val_acc: 1.0000\n",
      "Epoch 20/50\n",
      "18394/18394 [==============================] - 18s 984us/sample - loss: 0.0429 - acc: 0.9857 - val_loss: 2.2598e-04 - val_acc: 1.0000\n",
      "Epoch 21/50\n",
      "18394/18394 [==============================] - 20s 1ms/sample - loss: 0.0352 - acc: 0.9887 - val_loss: 1.5056e-04 - val_acc: 1.0000\n",
      "Epoch 22/50\n",
      "18394/18394 [==============================] - 18s 973us/sample - loss: 0.0371 - acc: 0.9878 - val_loss: 0.0010 - val_acc: 0.9998\n",
      "Epoch 23/50\n",
      "18394/18394 [==============================] - 18s 972us/sample - loss: 0.0339 - acc: 0.9892 - val_loss: 4.1808e-04 - val_acc: 1.0000\n",
      "Epoch 24/50\n",
      "18394/18394 [==============================] - 18s 963us/sample - loss: 0.0355 - acc: 0.9880 - val_loss: 4.5614e-04 - val_acc: 1.0000\n",
      "Epoch 25/50\n",
      "18394/18394 [==============================] - 18s 981us/sample - loss: 0.0338 - acc: 0.9883 - val_loss: 4.0462e-04 - val_acc: 1.0000\n",
      "Epoch 26/50\n",
      "18394/18394 [==============================] - 18s 990us/sample - loss: 0.0295 - acc: 0.9897 - val_loss: 9.9502e-05 - val_acc: 1.0000\n",
      "Epoch 27/50\n",
      "18394/18394 [==============================] - 18s 998us/sample - loss: 0.0305 - acc: 0.9896 - val_loss: 1.1820e-04 - val_acc: 1.0000\n",
      "Epoch 28/50\n",
      "18394/18394 [==============================] - 18s 991us/sample - loss: 0.0278 - acc: 0.9911 - val_loss: 2.3050e-04 - val_acc: 1.0000\n",
      "Epoch 29/50\n",
      "18394/18394 [==============================] - 18s 982us/sample - loss: 0.0242 - acc: 0.9924 - val_loss: 2.0408e-04 - val_acc: 1.0000\n",
      "Epoch 30/50\n",
      "18394/18394 [==============================] - 18s 996us/sample - loss: 0.0292 - acc: 0.9900 - val_loss: 2.3229e-04 - val_acc: 1.0000\n",
      "Epoch 31/50\n",
      "18394/18394 [==============================] - 18s 984us/sample - loss: 0.0199 - acc: 0.9941 - val_loss: 1.0708e-04 - val_acc: 1.0000\n",
      "Epoch 32/50\n",
      "18394/18394 [==============================] - 18s 973us/sample - loss: 0.0233 - acc: 0.9924 - val_loss: 1.4846e-04 - val_acc: 1.0000\n",
      "Epoch 33/50\n",
      "18394/18394 [==============================] - 18s 975us/sample - loss: 0.0230 - acc: 0.9926 - val_loss: 4.0619e-05 - val_acc: 1.0000\n",
      "Epoch 34/50\n",
      "18394/18394 [==============================] - 18s 970us/sample - loss: 0.0293 - acc: 0.9906 - val_loss: 7.4864e-04 - val_acc: 0.9998\n",
      "Epoch 35/50\n",
      "18394/18394 [==============================] - 18s 967us/sample - loss: 0.0251 - acc: 0.9913 - val_loss: 2.1156e-04 - val_acc: 1.0000\n",
      "Epoch 36/50\n",
      "18394/18394 [==============================] - 19s 1ms/sample - loss: 0.0219 - acc: 0.9923 - val_loss: 1.8308e-04 - val_acc: 1.0000\n",
      "Epoch 37/50\n",
      "18394/18394 [==============================] - 19s 1ms/sample - loss: 0.0252 - acc: 0.9919 - val_loss: 7.7767e-05 - val_acc: 1.0000\n",
      "Epoch 38/50\n",
      "18394/18394 [==============================] - 18s 981us/sample - loss: 0.0212 - acc: 0.9928 - val_loss: 4.1045e-05 - val_acc: 1.0000\n",
      "Epoch 39/50\n",
      "18394/18394 [==============================] - 18s 1ms/sample - loss: 0.0238 - acc: 0.9923 - val_loss: 1.2359e-04 - val_acc: 1.0000\n",
      "Epoch 40/50\n",
      "18394/18394 [==============================] - 19s 1ms/sample - loss: 0.0220 - acc: 0.9929 - val_loss: 1.0879e-04 - val_acc: 1.0000\n",
      "Epoch 41/50\n",
      "18394/18394 [==============================] - 19s 1ms/sample - loss: 0.0242 - acc: 0.9923 - val_loss: 9.5946e-05 - val_acc: 1.0000\n",
      "Epoch 42/50\n",
      "18394/18394 [==============================] - 18s 996us/sample - loss: 0.0199 - acc: 0.9936 - val_loss: 2.8900e-04 - val_acc: 1.0000\n",
      "Epoch 43/50\n",
      "18394/18394 [==============================] - 20s 1ms/sample - loss: 0.0220 - acc: 0.9924 - val_loss: 6.7049e-05 - val_acc: 1.0000\n",
      "Epoch 44/50\n",
      "18394/18394 [==============================] - 19s 1ms/sample - loss: 0.0164 - acc: 0.9944 - val_loss: 7.0200e-05 - val_acc: 1.0000\n",
      "Epoch 45/50\n",
      "18394/18394 [==============================] - 19s 1ms/sample - loss: 0.0205 - acc: 0.9933 - val_loss: 2.1777e-04 - val_acc: 1.0000\n",
      "Epoch 46/50\n",
      "18394/18394 [==============================] - 20s 1ms/sample - loss: 0.0189 - acc: 0.9935 - val_loss: 1.0277e-04 - val_acc: 1.0000\n",
      "Epoch 47/50\n",
      "18394/18394 [==============================] - 20s 1ms/sample - loss: 0.0179 - acc: 0.9940 - val_loss: 1.0402e-04 - val_acc: 1.0000\n",
      "Epoch 48/50\n",
      "18394/18394 [==============================] - 19s 1ms/sample - loss: 0.0197 - acc: 0.9933 - val_loss: 1.1201e-04 - val_acc: 1.0000\n",
      "Epoch 49/50\n",
      "18394/18394 [==============================] - 19s 1ms/sample - loss: 0.0191 - acc: 0.9936 - val_loss: 0.0027 - val_acc: 0.9992\n",
      "Epoch 50/50\n",
      "18394/18394 [==============================] - 19s 1ms/sample - loss: 0.0169 - acc: 0.9942 - val_loss: 2.8097e-04 - val_acc: 1.0000\n"
     ]
    }
   ],
   "source": [
    "model.compile(optimizer=\"adam\" , loss = \"sparse_categorical_crossentropy\",metrics=[\"acc\"])\n",
    "log_dir = \"logs/\" + datetime.datetime.now().strftime(\"%Y%m%d-%H%M%S\")\n",
    "tensorboard_callback = TensorBoard(log_dir=log_dir)\n",
    "history = model.fit(x=x_train, \n",
    "          y=y_train, \n",
    "          epochs=50, \n",
    "          validation_data=(x_test, y_test), \n",
    "          callbacks=[tensorboard_callback])"
   ]
  },
  {
   "cell_type": "code",
   "execution_count": 39,
   "metadata": {},
   "outputs": [],
   "source": [
    "model.save(\"model.h5\")"
   ]
  },
  {
   "cell_type": "code",
   "execution_count": 76,
   "metadata": {},
   "outputs": [
    {
     "data": {
      "image/png": "[encoded data removed]",
      "text/plain": [
       "<Figure size 432x288 with 1 Axes>"
      ]
     },
     "metadata": {
      "needs_background": "light"
     },
     "output_type": "display_data"
    }
   ],
   "source": [
    "plt.plot(history.history[\"loss\"])\n",
    "plt.plot(history.history[\"val_loss\"])\n",
    "plt.xlabel(\"epochs\")\n",
    "plt.ylabel(\"accuracy\")\n",
    "plt.show()"
   ]
  },
  {
   "cell_type": "code",
   "execution_count": 77,
   "metadata": {},
   "outputs": [
    {
     "data": {
      "image/png": "[encoded data removed]",
      "text/plain": [
       "<Figure size 432x288 with 1 Axes>"
      ]
     },
     "metadata": {
      "needs_background": "light"
     },
     "output_type": "display_data"
    }
   ],
   "source": [
    "plt.plot(history.history[\"acc\"])\n",
    "plt.plot(history.history[\"val_acc\"])\n",
    "plt.xlabel(\"epochs\")\n",
    "plt.ylabel(\"accuracy\")\n",
    "plt.show()"
   ]
  },
  {
   "cell_type": "code",
   "execution_count": 74,
   "metadata": {},
   "outputs": [
    {
     "data": {
      "text/plain": [
       "1.0"
      ]
     },
     "execution_count": 74,
     "metadata": {},
     "output_type": "execute_result"
    }
   ],
   "source": [
    "accuracy_score(Y_test,model.predict_classes(X_test))"
   ]
  },
  {
   "cell_type": "code",
   "execution_count": 121,
   "metadata": {},
   "outputs": [],
   "source": [
    "def plot_image(i,prediction_array,true_label,img):\n",
    "    prediction_array,true_label,img = predict[i],Y_test[i],X_test[i,:,:,0]\n",
    "    plt.grid(\"False\")\n",
    "    plt.xticks([])\n",
    "    plt.yticks([])\n",
    "    plt.imshow(img,cmap=plt.cm.binary)\n",
    "    predict_label = np.argmax(prediction_array)\n",
    "    if(predict_label == true_label):\n",
    "        color = \"Blue\"\n",
    "    else:\n",
    "        color = \"red\"\n",
    "        \n",
    "    plt.xlabel(\"{} {} ({})\".format(dict_signes[predict_label],\n",
    "                                       100*np.max(prediction_array),\n",
    "                                       dict_signes[true_label],color=color))\n",
    "\n",
    "def plot_value_array(i, predictions_array, true_label):\n",
    "  predictions_array , true_label = predictions_array[i], true_label[i]\n",
    "  plt.grid(False)\n",
    "  plt.xticks([])\n",
    "  plt.yticks([])\n",
    "  thisplot = plt.bar(range(25), predictions_array, color=\"#777777\")\n",
    "  plt.ylim([0, 1])\n",
    "  predicted_label = np.argmax(predictions_array)\n",
    "  plt.xticks(range(25), dict_signes, rotation=45)\n",
    "  thisplot[predicted_label].set_color('red')\n",
    "  thisplot[true_label].set_color('blue')"
   ]
  },
  {
   "cell_type": "code",
   "execution_count": 118,
   "metadata": {},
   "outputs": [],
   "source": [
    "predict = model.predict(X_test)\n"
   ]
  },
  {
   "cell_type": "code",
   "execution_count": 128,
   "metadata": {},
   "outputs": [
    {
     "data": {
      "image/png": "[encoded data removed]",
      "text/plain": [
       "<Figure size 720x360 with 2 Axes>"
      ]
     },
     "metadata": {
      "needs_background": "light"
     },
     "output_type": "display_data"
    }
   ],
   "source": [
    "i = 88\n",
    "plt.figure(figsize=(10,5))\n",
    "plt.subplot(1,2,1)\n",
    "plot_image(i,predict,Y_test,X_test)\n",
    "plt.subplot(1,2,2)\n",
    "plot_value_array(i,predict,Y_test)\n",
    "plt.show()"
   ]
  },
  {
   "cell_type": "code",
   "execution_count": null,
   "metadata": {},
   "outputs": [],
   "source": []
  }
 ],
 "metadata": {
  "kernelspec": {
   "display_name": "Python 3.6.9 64-bit ('myenv': conda)",
   "language": "python",
   "name": "python36964bitmyenvcondabe77ee87df9845f49e27b8db607a39fc"
  },
  "language_info": {
   "codemirror_mode": {
    "name": "ipython",
    "version": 3
   },
   "file_extension": ".py",
   "mimetype": "text/x-python",
   "name": "python",
   "nbconvert_exporter": "python",
   "pygments_lexer": "ipython3",
   "version": "3.6.9"
  }
 },
 "nbformat": 4,
 "nbformat_minor": 2
}
